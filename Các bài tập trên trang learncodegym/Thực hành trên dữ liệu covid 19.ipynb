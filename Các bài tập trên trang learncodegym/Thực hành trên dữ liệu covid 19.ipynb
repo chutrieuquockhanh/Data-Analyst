{
 "cells": [
  {
   "cell_type": "code",
   "execution_count": 10,
   "id": "a5a34fdb",
   "metadata": {
    "scrolled": true
   },
   "outputs": [
    {
     "data": {
      "text/html": [
       "<div>\n",
       "<style scoped>\n",
       "    .dataframe tbody tr th:only-of-type {\n",
       "        vertical-align: middle;\n",
       "    }\n",
       "\n",
       "    .dataframe tbody tr th {\n",
       "        vertical-align: top;\n",
       "    }\n",
       "\n",
       "    .dataframe thead th {\n",
       "        text-align: right;\n",
       "    }\n",
       "</style>\n",
       "<table border=\"1\" class=\"dataframe\">\n",
       "  <thead>\n",
       "    <tr style=\"text-align: right;\">\n",
       "      <th></th>\n",
       "      <th>country</th>\n",
       "      <th>continent</th>\n",
       "      <th>date</th>\n",
       "      <th>day</th>\n",
       "      <th>month</th>\n",
       "      <th>year</th>\n",
       "      <th>cases</th>\n",
       "      <th>deaths</th>\n",
       "      <th>country_code</th>\n",
       "      <th>population</th>\n",
       "    </tr>\n",
       "  </thead>\n",
       "  <tbody>\n",
       "    <tr>\n",
       "      <th>0</th>\n",
       "      <td>Afghanistan</td>\n",
       "      <td>Asia</td>\n",
       "      <td>2020-04-12</td>\n",
       "      <td>12</td>\n",
       "      <td>4</td>\n",
       "      <td>2020</td>\n",
       "      <td>34</td>\n",
       "      <td>3</td>\n",
       "      <td>AFG</td>\n",
       "      <td>37172386.0</td>\n",
       "    </tr>\n",
       "    <tr>\n",
       "      <th>1</th>\n",
       "      <td>Albania</td>\n",
       "      <td>Europe</td>\n",
       "      <td>2020-04-12</td>\n",
       "      <td>12</td>\n",
       "      <td>4</td>\n",
       "      <td>2020</td>\n",
       "      <td>17</td>\n",
       "      <td>0</td>\n",
       "      <td>ALB</td>\n",
       "      <td>2866376.0</td>\n",
       "    </tr>\n",
       "    <tr>\n",
       "      <th>2</th>\n",
       "      <td>Algeria</td>\n",
       "      <td>Africa</td>\n",
       "      <td>2020-04-12</td>\n",
       "      <td>12</td>\n",
       "      <td>4</td>\n",
       "      <td>2020</td>\n",
       "      <td>64</td>\n",
       "      <td>19</td>\n",
       "      <td>DZA</td>\n",
       "      <td>42228429.0</td>\n",
       "    </tr>\n",
       "    <tr>\n",
       "      <th>3</th>\n",
       "      <td>Andorra</td>\n",
       "      <td>Europe</td>\n",
       "      <td>2020-04-12</td>\n",
       "      <td>12</td>\n",
       "      <td>4</td>\n",
       "      <td>2020</td>\n",
       "      <td>21</td>\n",
       "      <td>2</td>\n",
       "      <td>AND</td>\n",
       "      <td>77006.0</td>\n",
       "    </tr>\n",
       "    <tr>\n",
       "      <th>4</th>\n",
       "      <td>Angola</td>\n",
       "      <td>Africa</td>\n",
       "      <td>2020-04-12</td>\n",
       "      <td>12</td>\n",
       "      <td>4</td>\n",
       "      <td>2020</td>\n",
       "      <td>0</td>\n",
       "      <td>0</td>\n",
       "      <td>AGO</td>\n",
       "      <td>30809762.0</td>\n",
       "    </tr>\n",
       "  </tbody>\n",
       "</table>\n",
       "</div>"
      ],
      "text/plain": [
       "       country continent        date  day  month  year  cases  deaths  \\\n",
       "0  Afghanistan      Asia  2020-04-12   12      4  2020     34       3   \n",
       "1      Albania    Europe  2020-04-12   12      4  2020     17       0   \n",
       "2      Algeria    Africa  2020-04-12   12      4  2020     64      19   \n",
       "3      Andorra    Europe  2020-04-12   12      4  2020     21       2   \n",
       "4       Angola    Africa  2020-04-12   12      4  2020      0       0   \n",
       "\n",
       "  country_code  population  \n",
       "0          AFG  37172386.0  \n",
       "1          ALB   2866376.0  \n",
       "2          DZA  42228429.0  \n",
       "3          AND     77006.0  \n",
       "4          AGO  30809762.0  "
      ]
     },
     "execution_count": 10,
     "metadata": {},
     "output_type": "execute_result"
    }
   ],
   "source": [
    "import pandas as pd\n",
    "import numpy as np\n",
    "import matplotlib.pyplot as plt\n",
    "data = pd.read_csv('subset-covid-data.csv', encoding = 'ISO-8859-1')\n",
    "data.head()"
   ]
  },
  {
   "cell_type": "code",
   "execution_count": 4,
   "id": "f07acaba",
   "metadata": {},
   "outputs": [
    {
     "name": "stdout",
     "output_type": "stream",
     "text": [
      "<class 'pandas.core.frame.DataFrame'>\n",
      "RangeIndex: 206 entries, 0 to 205\n",
      "Data columns (total 10 columns):\n",
      " #   Column        Non-Null Count  Dtype  \n",
      "---  ------        --------------  -----  \n",
      " 0   country       206 non-null    object \n",
      " 1   continent     206 non-null    object \n",
      " 2   date          206 non-null    object \n",
      " 3   day           206 non-null    int64  \n",
      " 4   month         206 non-null    int64  \n",
      " 5   year          206 non-null    int64  \n",
      " 6   cases         206 non-null    int64  \n",
      " 7   deaths        206 non-null    int64  \n",
      " 8   country_code  202 non-null    object \n",
      " 9   population    202 non-null    float64\n",
      "dtypes: float64(1), int64(5), object(4)\n",
      "memory usage: 16.2+ KB\n"
     ]
    }
   ],
   "source": [
    "data.info()"
   ]
  },
  {
   "cell_type": "code",
   "execution_count": 5,
   "id": "e19822c2",
   "metadata": {
    "scrolled": true
   },
   "outputs": [
    {
     "data": {
      "text/plain": [
       "2020-04-12    204\n",
       "2020-01-18      1\n",
       "2020-04-11      1\n",
       "Name: date, dtype: int64"
      ]
     },
     "execution_count": 5,
     "metadata": {},
     "output_type": "execute_result"
    }
   ],
   "source": [
    "data.date.value_counts()"
   ]
  },
  {
   "cell_type": "code",
   "execution_count": 14,
   "id": "1554c026",
   "metadata": {
    "scrolled": false
   },
   "outputs": [
    {
     "name": "stdout",
     "output_type": "stream",
     "text": [
      "Trung bình số ca mắc mới: 376.8186274509804\n",
      "Trung vị số ca mắc mới: 11.5\n"
     ]
    },
    {
     "data": {
      "text/plain": [
       "Text(0, 0.5, 'Số lượng quốc gia')"
      ]
     },
     "execution_count": 14,
     "metadata": {},
     "output_type": "execute_result"
    },
    {
     "data": {
      "image/png": "[encoded data removed]",
      "text/plain": [
       "<Figure size 432x288 with 1 Axes>"
      ]
     },
     "metadata": {
      "needs_background": "light"
     },
     "output_type": "display_data"
    }
   ],
   "source": [
    "#lọc dữ liệu nhiễu\n",
    "cleaned_data = data[data.date == '2020-04-12']\n",
    "#Vẽ biểu đồ phân bố số lượng ca mắc mới ở các quốc gia\n",
    "print(\"Trung bình số ca mắc mới: \" + str(cleaned_data.cases.mean()))\n",
    "print(\"Trung vị số ca mắc mới: \" + str(cleaned_data.cases.median()))\n",
    "plt.hist(cleaned_data.cases, bins = 200)\n",
    "plt.title(\"Phân bố số ca mắc mới\")\n",
    "plt.xlabel(\"Số ca mắc mới\")\n",
    "plt.ylabel(\"Số lượng quốc gia\")"
   ]
  },
  {
   "cell_type": "code",
   "execution_count": 22,
   "id": "75c0dab4",
   "metadata": {
    "scrolled": true
   },
   "outputs": [
    {
     "name": "stdout",
     "output_type": "stream",
     "text": [
      "tổng số ca nhiễm và số ca của các châu lục\n"
     ]
    },
    {
     "name": "stderr",
     "output_type": "stream",
     "text": [
      "C:\\Users\\quockhanh\\AppData\\Local\\Temp\\ipykernel_6496\\1523054420.py:2: FutureWarning: Indexing with multiple keys (implicitly converted to a tuple of keys) will be deprecated, use a list instead.\n",
      "  cleaned_data.groupby('continent')['cases','deaths'].sum()\n"
     ]
    },
    {
     "data": {
      "text/html": [
       "<div>\n",
       "<style scoped>\n",
       "    .dataframe tbody tr th:only-of-type {\n",
       "        vertical-align: middle;\n",
       "    }\n",
       "\n",
       "    .dataframe tbody tr th {\n",
       "        vertical-align: top;\n",
       "    }\n",
       "\n",
       "    .dataframe thead th {\n",
       "        text-align: right;\n",
       "    }\n",
       "</style>\n",
       "<table border=\"1\" class=\"dataframe\">\n",
       "  <thead>\n",
       "    <tr style=\"text-align: right;\">\n",
       "      <th></th>\n",
       "      <th>cases</th>\n",
       "      <th>deaths</th>\n",
       "    </tr>\n",
       "    <tr>\n",
       "      <th>continent</th>\n",
       "      <th></th>\n",
       "      <th></th>\n",
       "    </tr>\n",
       "  </thead>\n",
       "  <tbody>\n",
       "    <tr>\n",
       "      <th>Africa</th>\n",
       "      <td>714</td>\n",
       "      <td>52</td>\n",
       "    </tr>\n",
       "    <tr>\n",
       "      <th>America</th>\n",
       "      <td>33519</td>\n",
       "      <td>2111</td>\n",
       "    </tr>\n",
       "    <tr>\n",
       "      <th>Asia</th>\n",
       "      <td>12979</td>\n",
       "      <td>383</td>\n",
       "    </tr>\n",
       "    <tr>\n",
       "      <th>Europe</th>\n",
       "      <td>29591</td>\n",
       "      <td>2966</td>\n",
       "    </tr>\n",
       "    <tr>\n",
       "      <th>Oceania</th>\n",
       "      <td>68</td>\n",
       "      <td>4</td>\n",
       "    </tr>\n",
       "  </tbody>\n",
       "</table>\n",
       "</div>"
      ],
      "text/plain": [
       "           cases  deaths\n",
       "continent               \n",
       "Africa       714      52\n",
       "America    33519    2111\n",
       "Asia       12979     383\n",
       "Europe     29591    2966\n",
       "Oceania       68       4"
      ]
     },
     "execution_count": 22,
     "metadata": {},
     "output_type": "execute_result"
    }
   ],
   "source": [
    "print(\"tổng số ca nhiễm và số ca của các châu lục\")\n",
    "cleaned_data.groupby('continent')['cases','deaths'].sum()"
   ]
  },
  {
   "cell_type": "code",
   "execution_count": 25,
   "id": "f49f31aa",
   "metadata": {
    "scrolled": true
   },
   "outputs": [
    {
     "name": "stdout",
     "output_type": "stream",
     "text": [
      "Top 5 quốc gia có sô nhiễm ca mới cao nhất\n"
     ]
    },
    {
     "data": {
      "text/html": [
       "<div>\n",
       "<style scoped>\n",
       "    .dataframe tbody tr th:only-of-type {\n",
       "        vertical-align: middle;\n",
       "    }\n",
       "\n",
       "    .dataframe tbody tr th {\n",
       "        vertical-align: top;\n",
       "    }\n",
       "\n",
       "    .dataframe thead th {\n",
       "        text-align: right;\n",
       "    }\n",
       "</style>\n",
       "<table border=\"1\" class=\"dataframe\">\n",
       "  <thead>\n",
       "    <tr style=\"text-align: right;\">\n",
       "      <th></th>\n",
       "      <th>country</th>\n",
       "      <th>continent</th>\n",
       "      <th>date</th>\n",
       "      <th>day</th>\n",
       "      <th>month</th>\n",
       "      <th>year</th>\n",
       "      <th>cases</th>\n",
       "      <th>deaths</th>\n",
       "      <th>country_code</th>\n",
       "      <th>population</th>\n",
       "    </tr>\n",
       "  </thead>\n",
       "  <tbody>\n",
       "    <tr>\n",
       "      <th>198</th>\n",
       "      <td>United_States_of_America</td>\n",
       "      <td>America</td>\n",
       "      <td>2020-04-12</td>\n",
       "      <td>12</td>\n",
       "      <td>4</td>\n",
       "      <td>2020</td>\n",
       "      <td>28391</td>\n",
       "      <td>1831</td>\n",
       "      <td>USA</td>\n",
       "      <td>327167434.0</td>\n",
       "    </tr>\n",
       "    <tr>\n",
       "      <th>195</th>\n",
       "      <td>United_Kingdom</td>\n",
       "      <td>Europe</td>\n",
       "      <td>2020-04-12</td>\n",
       "      <td>12</td>\n",
       "      <td>4</td>\n",
       "      <td>2020</td>\n",
       "      <td>8719</td>\n",
       "      <td>839</td>\n",
       "      <td>GBR</td>\n",
       "      <td>66488991.0</td>\n",
       "    </tr>\n",
       "    <tr>\n",
       "      <th>190</th>\n",
       "      <td>Turkey</td>\n",
       "      <td>Asia</td>\n",
       "      <td>2020-04-12</td>\n",
       "      <td>12</td>\n",
       "      <td>4</td>\n",
       "      <td>2020</td>\n",
       "      <td>5138</td>\n",
       "      <td>95</td>\n",
       "      <td>TUR</td>\n",
       "      <td>82319724.0</td>\n",
       "    </tr>\n",
       "    <tr>\n",
       "      <th>98</th>\n",
       "      <td>Italy</td>\n",
       "      <td>Europe</td>\n",
       "      <td>2020-04-12</td>\n",
       "      <td>12</td>\n",
       "      <td>4</td>\n",
       "      <td>2020</td>\n",
       "      <td>4694</td>\n",
       "      <td>619</td>\n",
       "      <td>ITA</td>\n",
       "      <td>60431283.0</td>\n",
       "    </tr>\n",
       "    <tr>\n",
       "      <th>177</th>\n",
       "      <td>Spain</td>\n",
       "      <td>Europe</td>\n",
       "      <td>2020-04-11</td>\n",
       "      <td>11</td>\n",
       "      <td>4</td>\n",
       "      <td>2020</td>\n",
       "      <td>4550</td>\n",
       "      <td>605</td>\n",
       "      <td>ESP</td>\n",
       "      <td>46723749.0</td>\n",
       "    </tr>\n",
       "  </tbody>\n",
       "</table>\n",
       "</div>"
      ],
      "text/plain": [
       "                      country continent        date  day  month  year  cases  \\\n",
       "198  United_States_of_America   America  2020-04-12   12      4  2020  28391   \n",
       "195            United_Kingdom    Europe  2020-04-12   12      4  2020   8719   \n",
       "190                    Turkey      Asia  2020-04-12   12      4  2020   5138   \n",
       "98                      Italy    Europe  2020-04-12   12      4  2020   4694   \n",
       "177                     Spain    Europe  2020-04-11   11      4  2020   4550   \n",
       "\n",
       "     deaths country_code   population  \n",
       "198    1831          USA  327167434.0  \n",
       "195     839          GBR   66488991.0  \n",
       "190      95          TUR   82319724.0  \n",
       "98      619          ITA   60431283.0  \n",
       "177     605          ESP   46723749.0  "
      ]
     },
     "execution_count": 25,
     "metadata": {},
     "output_type": "execute_result"
    }
   ],
   "source": [
    "#Top 5 quốc Gia có số ca nhiễm mới nhất\n",
    "print(\"Top 5 quốc gia có sô nhiễm ca mới cao nhất\")\n",
    "data = data.sort_values('cases', ascending = False)\n",
    "data.head(5)"
   ]
  },
  {
   "cell_type": "code",
   "execution_count": 26,
   "id": "92bb8547",
   "metadata": {},
   "outputs": [
    {
     "name": "stdout",
     "output_type": "stream",
     "text": [
      "Top 5 có số ca tử vong cao nhất\n"
     ]
    },
    {
     "data": {
      "text/html": [
       "<div>\n",
       "<style scoped>\n",
       "    .dataframe tbody tr th:only-of-type {\n",
       "        vertical-align: middle;\n",
       "    }\n",
       "\n",
       "    .dataframe tbody tr th {\n",
       "        vertical-align: top;\n",
       "    }\n",
       "\n",
       "    .dataframe thead th {\n",
       "        text-align: right;\n",
       "    }\n",
       "</style>\n",
       "<table border=\"1\" class=\"dataframe\">\n",
       "  <thead>\n",
       "    <tr style=\"text-align: right;\">\n",
       "      <th></th>\n",
       "      <th>country</th>\n",
       "      <th>continent</th>\n",
       "      <th>date</th>\n",
       "      <th>day</th>\n",
       "      <th>month</th>\n",
       "      <th>year</th>\n",
       "      <th>cases</th>\n",
       "      <th>deaths</th>\n",
       "      <th>country_code</th>\n",
       "      <th>population</th>\n",
       "    </tr>\n",
       "  </thead>\n",
       "  <tbody>\n",
       "    <tr>\n",
       "      <th>198</th>\n",
       "      <td>United_States_of_America</td>\n",
       "      <td>America</td>\n",
       "      <td>2020-04-12</td>\n",
       "      <td>12</td>\n",
       "      <td>4</td>\n",
       "      <td>2020</td>\n",
       "      <td>28391</td>\n",
       "      <td>1831</td>\n",
       "      <td>USA</td>\n",
       "      <td>327167434.0</td>\n",
       "    </tr>\n",
       "    <tr>\n",
       "      <th>195</th>\n",
       "      <td>United_Kingdom</td>\n",
       "      <td>Europe</td>\n",
       "      <td>2020-04-12</td>\n",
       "      <td>12</td>\n",
       "      <td>4</td>\n",
       "      <td>2020</td>\n",
       "      <td>8719</td>\n",
       "      <td>839</td>\n",
       "      <td>GBR</td>\n",
       "      <td>66488991.0</td>\n",
       "    </tr>\n",
       "    <tr>\n",
       "      <th>69</th>\n",
       "      <td>France</td>\n",
       "      <td>Europe</td>\n",
       "      <td>2020-04-12</td>\n",
       "      <td>12</td>\n",
       "      <td>4</td>\n",
       "      <td>2020</td>\n",
       "      <td>3114</td>\n",
       "      <td>635</td>\n",
       "      <td>FRA</td>\n",
       "      <td>66987244.0</td>\n",
       "    </tr>\n",
       "    <tr>\n",
       "      <th>98</th>\n",
       "      <td>Italy</td>\n",
       "      <td>Europe</td>\n",
       "      <td>2020-04-12</td>\n",
       "      <td>12</td>\n",
       "      <td>4</td>\n",
       "      <td>2020</td>\n",
       "      <td>4694</td>\n",
       "      <td>619</td>\n",
       "      <td>ITA</td>\n",
       "      <td>60431283.0</td>\n",
       "    </tr>\n",
       "    <tr>\n",
       "      <th>177</th>\n",
       "      <td>Spain</td>\n",
       "      <td>Europe</td>\n",
       "      <td>2020-04-11</td>\n",
       "      <td>11</td>\n",
       "      <td>4</td>\n",
       "      <td>2020</td>\n",
       "      <td>4550</td>\n",
       "      <td>605</td>\n",
       "      <td>ESP</td>\n",
       "      <td>46723749.0</td>\n",
       "    </tr>\n",
       "  </tbody>\n",
       "</table>\n",
       "</div>"
      ],
      "text/plain": [
       "                      country continent        date  day  month  year  cases  \\\n",
       "198  United_States_of_America   America  2020-04-12   12      4  2020  28391   \n",
       "195            United_Kingdom    Europe  2020-04-12   12      4  2020   8719   \n",
       "69                     France    Europe  2020-04-12   12      4  2020   3114   \n",
       "98                      Italy    Europe  2020-04-12   12      4  2020   4694   \n",
       "177                     Spain    Europe  2020-04-11   11      4  2020   4550   \n",
       "\n",
       "     deaths country_code   population  \n",
       "198    1831          USA  327167434.0  \n",
       "195     839          GBR   66488991.0  \n",
       "69      635          FRA   66987244.0  \n",
       "98      619          ITA   60431283.0  \n",
       "177     605          ESP   46723749.0  "
      ]
     },
     "execution_count": 26,
     "metadata": {},
     "output_type": "execute_result"
    }
   ],
   "source": [
    "#Top 5 quốc gia có số ca tử vong cao nhất\n",
    "print(\"Top 5 có số ca tử vong cao nhất\")\n",
    "data = data.sort_values('deaths', ascending = False)\n",
    "data.head(5)"
   ]
  }
 ],
 "metadata": {
  "kernelspec": {
   "display_name": "Python 3 (ipykernel)",
   "language": "python",
   "name": "python3"
  },
  "language_info": {
   "codemirror_mode": {
    "name": "ipython",
    "version": 3
   },
   "file_extension": ".py",
   "mimetype": "text/x-python",
   "name": "python",
   "nbconvert_exporter": "python",
   "pygments_lexer": "ipython3",
   "version": "3.10.2"
  }
 },
 "nbformat": 4,
 "nbformat_minor": 5
}
